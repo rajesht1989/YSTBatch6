{
  "nbformat": 4,
  "nbformat_minor": 0,
  "metadata": {
    "colab": {
      "provenance": [],
      "authorship_tag": "ABX9TyMlXfKyAxTXivig5yv0j8Sl",
      "include_colab_link": true
    },
    "kernelspec": {
      "name": "python3",
      "display_name": "Python 3"
    },
    "language_info": {
      "name": "python"
    }
  },
  "cells": [
    {
      "cell_type": "markdown",
      "metadata": {
        "id": "view-in-github",
        "colab_type": "text"
      },
      "source": [
        "<a href=\"https://colab.research.google.com/github/rajesht1989/YSTBatch6/blob/karthikeyan/python_Notes.ipynb\" target=\"_parent\"><img src=\"https://colab.research.google.com/assets/colab-badge.svg\" alt=\"Open In Colab\"/></a>"
      ]
    },
    {
      "cell_type": "code",
      "execution_count": null,
      "metadata": {
        "colab": {
          "base_uri": "https://localhost:8080/"
        },
        "id": "TbKoe5hNwxK9",
        "outputId": "3a85e4ab-f9c2-48f3-9aeb-8c465614b3ec"
      },
      "outputs": [
        {
          "output_type": "execute_result",
          "data": {
            "text/plain": [
              "tuple"
            ]
          },
          "metadata": {},
          "execution_count": 9
        }
      ],
      "source": [
        "t# @title Default title text\n",
        "integer --> int  ---> eg: 1,10,100\n",
        "string ---> str ----> eg: \"example\" or 'example' or '''paragraph''' or \"\"\"paragraph\"\"\"\n",
        "dictionary ---> dict ---> eg: {key:value}  exampple -> {\"book\":\"tamil\"},{\"phone\":'vivo'}\n",
        "list ---> a = [1,2,3,4,5] , c = ['a',0,True]\n",
        "tuple ----> b = (1,2,3,4,5), d = ['a',0,True]\n",
        "set ----> {1,2,3,4}\n",
        "boolean ---> True or False --->eg: a = 1 --> a.isnum o/p --> True\n",
        "\n",
        "variable ---> it's continer why we use ---> store a value  ---> eg: furites=['apple','orange','kiwi']\n",
        "\n"
      ]
    },
    {
      "cell_type": "markdown",
      "source": [],
      "metadata": {
        "id": "39WK2dfd-wt-"
      }
    },
    {
      "cell_type": "code",
      "source": [
        "1) data types - [int,str,float,boolean],[list,tuple,set,dictionary]\n",
        "2) variables\n",
        "3) operators - conditional oprator & assignment operator\n",
        "4) conditional statement - if,else, elif\n",
        "5) loops - for, while\n",
        "6) function\n",
        "7) error handeling / file handeling\n",
        "8) oops\n",
        "9) advance concept - [list comrication],map function"
      ],
      "metadata": {
        "colab": {
          "base_uri": "https://localhost:8080/"
        },
        "id": "ijjR9GRu8xHO",
        "outputId": "a6361804-8b4b-4962-f33b-510b456ed21b"
      },
      "execution_count": null,
      "outputs": [
        {
          "output_type": "execute_result",
          "data": {
            "text/plain": [
              "tuple"
            ]
          },
          "metadata": {},
          "execution_count": 12
        }
      ]
    },
    {
      "cell_type": "code",
      "source": [
        "name = input()\n",
        "\n",
        "age = input()\n",
        "\n",
        "print(\"My name\", name)\n",
        "print(\"My age\", age)"
      ],
      "metadata": {
        "id": "adyBpCUjAgN_",
        "colab": {
          "base_uri": "https://localhost:8080/"
        },
        "outputId": "4c7967c1-c2d2-4edf-def6-b4732ae1358a"
      },
      "execution_count": null,
      "outputs": [
        {
          "output_type": "stream",
          "name": "stdout",
          "text": [
            "karthi\n",
            "18\n",
            "My name karthi\n",
            "My age 18\n"
          ]
        }
      ]
    },
    {
      "cell_type": "code",
      "source": [
        "\n",
        "number=int(input(\"enter a number:\"))\n",
        "if(number%3==0 and number%5==0):\n",
        "    print(\"the given number is divisible by 3 and 5\")\n",
        "elif(number%3==0):\n",
        "    print(\"the given  number is only divisible by 3\")\n",
        "elif(number%5==0):\n",
        "    print(\"the given  number is only divisible by 5\")\n",
        "else:\n",
        "    print(\"the given number is not divisible by 3 and 5\")"
      ],
      "metadata": {
        "colab": {
          "base_uri": "https://localhost:8080/"
        },
        "id": "b-2XwZZrpSiO",
        "outputId": "2a3737c7-d580-46a7-dcee-260c929d4e2d"
      },
      "execution_count": null,
      "outputs": [
        {
          "output_type": "stream",
          "name": "stdout",
          "text": [
            "enter a number:2\n",
            "the given number is not divisible by 3 and 5\n"
          ]
        }
      ]
    },
    {
      "cell_type": "code",
      "source": [
        "15%3"
      ],
      "metadata": {
        "colab": {
          "base_uri": "https://localhost:8080/"
        },
        "id": "Yhjpm1LVF5Ni",
        "outputId": "f3578781-bbad-410d-9568-eb03a7db47b5"
      },
      "execution_count": null,
      "outputs": [
        {
          "output_type": "execute_result",
          "data": {
            "text/plain": [
              "0"
            ]
          },
          "metadata": {},
          "execution_count": 5
        }
      ]
    },
    {
      "cell_type": "code",
      "source": [
        "score=int(input(\"score:\" ))\n",
        "\n",
        "if(score<35):\n",
        "  print(\"poor\")\n",
        "elif(score>35 and score<70):\n",
        "  print(\"average\")\n",
        "elif(score>70 and score<100):\n",
        "  print(\"good\")\n",
        "else:\n",
        "  print(\"fake score\")"
      ],
      "metadata": {
        "colab": {
          "base_uri": "https://localhost:8080/"
        },
        "id": "Tm3O6kmKF9oB",
        "outputId": "a809b378-0be1-46d8-b0be-a4797c64ea14"
      },
      "execution_count": null,
      "outputs": [
        {
          "output_type": "stream",
          "name": "stdout",
          "text": [
            "score:99\n",
            "good\n"
          ]
        }
      ]
    },
    {
      "cell_type": "code",
      "source": [
        "type(5)"
      ],
      "metadata": {
        "colab": {
          "base_uri": "https://localhost:8080/"
        },
        "id": "zMjSKto1PtHW",
        "outputId": "f24926d7-e3bb-4010-d3d7-5139d90f11a9"
      },
      "execution_count": null,
      "outputs": [
        {
          "output_type": "execute_result",
          "data": {
            "text/plain": [
              "int"
            ]
          },
          "metadata": {},
          "execution_count": 19
        }
      ]
    },
    {
      "cell_type": "code",
      "source": [],
      "metadata": {
        "id": "WaI6l5iQS5tC"
      },
      "execution_count": null,
      "outputs": []
    },
    {
      "cell_type": "code",
      "source": [
        "\n",
        "\n",
        "a=float(input(\"A:\"))\n",
        "b=float(input(\"B:\"))\n",
        "opre=input(\"add/sul/mul/div:\")\n",
        "if(opre==\"add\"):\n",
        "  print(a+b)\n",
        "elif(opre==\"sul\"):\n",
        "  print(a-b)\n",
        "elif(opre==\"mul\"):\n",
        "  print(a*b)\n",
        "elif(opre==\"div\"):\n",
        "  print(a/b)\n",
        "else:\n",
        "  print(\"errno\")"
      ],
      "metadata": {
        "id": "GsxgcszjRf-A"
      },
      "execution_count": null,
      "outputs": []
    },
    {
      "cell_type": "code",
      "source": [
        "salary=int(input(\"your salary:\"))\n",
        "age=int(input(\"your age:\"))\n",
        "if(salary>=20000 and age>=25):\n",
        "  print(\"you are elgible for loan\")\n",
        "else:\n",
        "  print(\"you are not elgible\")"
      ],
      "metadata": {
        "colab": {
          "base_uri": "https://localhost:8080/"
        },
        "id": "A4YeJDJ9GBVi",
        "outputId": "56d7e31c-9d2b-46bf-cdd9-bd312ab3e7df"
      },
      "execution_count": null,
      "outputs": [
        {
          "output_type": "stream",
          "name": "stdout",
          "text": [
            "your salary:21000\n",
            "your age:18\n",
            "you are not elgible\n"
          ]
        }
      ]
    },
    {
      "cell_type": "code",
      "source": [
        "salary=int(input(\"your salary:\"))\n",
        "age=int(input(\"your age:\"))\n",
        "if(salary>=20000 and age>=25):\n",
        "  print(\"you are elgible for loan\")\n",
        "else:\n",
        "  print(\"you are not elgible\")"
      ],
      "metadata": {
        "colab": {
          "base_uri": "https://localhost:8080/"
        },
        "id": "k7X0cQUL4Pyv",
        "outputId": "536e03bd-5c96-4802-cbbe-d05e6127ab66"
      },
      "execution_count": null,
      "outputs": [
        {
          "output_type": "stream",
          "name": "stdout",
          "text": [
            "your salary:1000\n",
            "your age:25\n",
            "you are not elgible\n"
          ]
        }
      ]
    },
    {
      "cell_type": "code",
      "source": [
        "a=int(input())\n",
        "b=int(input())\n",
        "c=int(input())\n",
        "d=int(input())\n",
        "e=int(input())\n",
        "\n",
        "f=(a+b+c+d+e)/5\n",
        "\n",
        "print(f)\n",
        "\n",
        "if f > 35:\n",
        "  print(\"go to clsse\")\n",
        "else:\n",
        "  print(\"go to home\")"
      ],
      "metadata": {
        "id": "p9ts02EWI9L2",
        "colab": {
          "base_uri": "https://localhost:8080/"
        },
        "outputId": "53d87845-5c14-4e78-9b14-213bc1f4aa9c"
      },
      "execution_count": null,
      "outputs": [
        {
          "output_type": "stream",
          "name": "stdout",
          "text": [
            "30\n",
            "36\n",
            "33\n",
            "40\n",
            "41\n",
            "36.0\n",
            "go to clsse\n"
          ]
        }
      ]
    },
    {
      "cell_type": "code",
      "source": [
        "for i in range(1,11):\n",
        "  if (i%2==0):\n",
        "    print(i)\n"
      ],
      "metadata": {
        "id": "0BHuzFW6YCb0",
        "colab": {
          "base_uri": "https://localhost:8080/"
        },
        "outputId": "4e96823e-33aa-47eb-8298-95f0c24fce13"
      },
      "execution_count": null,
      "outputs": [
        {
          "output_type": "stream",
          "name": "stdout",
          "text": [
            "2\n",
            "4\n",
            "6\n",
            "8\n",
            "10\n"
          ]
        }
      ]
    },
    {
      "cell_type": "code",
      "source": [
        "count=0\n",
        "for i in range(1,5):\n",
        "  if(i%2==0):\n",
        "    count=count+1\n",
        "print(count)"
      ],
      "metadata": {
        "id": "hYRgoE0j5jbH",
        "colab": {
          "base_uri": "https://localhost:8080/"
        },
        "outputId": "643c9a97-4bfc-4903-cc9e-a67024b30f4c"
      },
      "execution_count": null,
      "outputs": [
        {
          "output_type": "stream",
          "name": "stdout",
          "text": [
            "2\n"
          ]
        }
      ]
    },
    {
      "cell_type": "code",
      "source": [
        "e_count=0\n",
        "o_count=0\n",
        "for i in range(1,11):\n",
        "  if(i%2==0):\n",
        "    e_count=e_count+1\n",
        "  else:\n",
        "    o_count=o_count+1\n",
        "print(e_count)\n",
        "print(o_count)"
      ],
      "metadata": {
        "colab": {
          "base_uri": "https://localhost:8080/"
        },
        "id": "wZG9pYRQxYhU",
        "outputId": "f641f3d4-1666-4153-84ac-b6b10377c0d9"
      },
      "execution_count": null,
      "outputs": [
        {
          "output_type": "stream",
          "name": "stdout",
          "text": [
            "5\n",
            "5\n"
          ]
        }
      ]
    },
    {
      "cell_type": "code",
      "source": [
        "count=0\n",
        "for i in range(1,101):\n",
        "  if(i%3==0 and i%5==0):\n",
        "    count=count+1\n",
        "print(count)"
      ],
      "metadata": {
        "id": "8qJINubuxkHf",
        "colab": {
          "base_uri": "https://localhost:8080/"
        },
        "outputId": "42c06999-42d8-4202-a9b5-72038b6b63fb"
      },
      "execution_count": null,
      "outputs": [
        {
          "output_type": "stream",
          "name": "stdout",
          "text": [
            "6\n"
          ]
        }
      ]
    },
    {
      "cell_type": "code",
      "source": [
        "a=[]\n",
        "a.append(10)\n",
        "a.append(20)\n",
        "a.append(30)\n",
        "a.append(40)\n",
        "b = int(input())\n",
        "a.append(b)\n",
        "print(a)"
      ],
      "metadata": {
        "id": "ZgYuN-iX-HLg",
        "colab": {
          "base_uri": "https://localhost:8080/"
        },
        "outputId": "d16d4514-55da-4a02-ad34-71b5276fe396"
      },
      "execution_count": null,
      "outputs": [
        {
          "output_type": "stream",
          "name": "stdout",
          "text": [
            "1\n",
            "[10, 20, 30, 40, 1]\n"
          ]
        }
      ]
    },
    {
      "cell_type": "code",
      "source": [
        "a=[]\n",
        "for i in range(10):\n",
        "  print(i)"
      ],
      "metadata": {
        "colab": {
          "base_uri": "https://localhost:8080/"
        },
        "id": "Xv0u7OY7dYho",
        "outputId": "ab62cbe7-41a8-4d4e-94ff-eb24b011191f"
      },
      "execution_count": null,
      "outputs": [
        {
          "output_type": "stream",
          "name": "stdout",
          "text": [
            "0\n",
            "1\n",
            "2\n",
            "3\n",
            "4\n",
            "5\n",
            "6\n",
            "7\n",
            "8\n",
            "9\n"
          ]
        }
      ]
    },
    {
      "cell_type": "code",
      "source": [],
      "metadata": {
        "id": "oM-4CNhxiRP1"
      },
      "execution_count": null,
      "outputs": []
    }
  ]
}
{
  "nbformat": 4,
  "nbformat_minor": 0,
  "metadata": {
    "colab": {
      "private_outputs": true,
      "provenance": [],
      "cell_execution_strategy": "setup"
    },
    "kernelspec": {
      "name": "python3",
      "display_name": "Python 3"
    },
    "language_info": {
      "name": "python"
    }
  },
  "cells": [
    {
      "cell_type": "code",
      "execution_count": null,
      "metadata": {
        "id": "-35P2kWr1XFN"
      },
      "outputs": [],
      "source": [
        "#int\n",
        "\n",
        "a = 10\n",
        "\n",
        "print(type(a))"
      ]
    },
    {
      "cell_type": "code",
      "source": [
        "#str\n",
        "\n",
        "b = \"hello\"\n",
        "\n",
        "print(type(b))"
      ],
      "metadata": {
        "id": "QFP_uZGO1tb1"
      },
      "execution_count": null,
      "outputs": []
    },
    {
      "cell_type": "code",
      "source": [
        "#float\n",
        "\n",
        "c = 5.5\n",
        "\n",
        "print(type(c))"
      ],
      "metadata": {
        "id": "6mHepicK2OXh"
      },
      "execution_count": null,
      "outputs": []
    },
    {
      "cell_type": "code",
      "source": [
        "#complex\n",
        "\n",
        "d = 1j\n",
        "print(type(d))"
      ],
      "metadata": {
        "id": "Nj6RDf4J2a8N"
      },
      "execution_count": null,
      "outputs": []
    },
    {
      "cell_type": "code",
      "source": [
        "#list\n",
        "\n",
        "e = ['car','key','car view']\n",
        "\n",
        "print(type(e))"
      ],
      "metadata": {
        "id": "LRGDytJ15QtZ"
      },
      "execution_count": null,
      "outputs": []
    },
    {
      "cell_type": "code",
      "source": [
        " #set\n",
        "\n",
        " f = {\"bmw\",\"volvo,jeep\"}\n",
        "\n",
        " print(type(f))"
      ],
      "metadata": {
        "id": "yMXUx8G96dKT"
      },
      "execution_count": null,
      "outputs": []
    },
    {
      "cell_type": "code",
      "source": [
        "#range\n",
        "\n",
        "g = range(12)\n",
        "\n",
        "print(type(g))"
      ],
      "metadata": {
        "id": "Oa0-rS3H7VvQ"
      },
      "execution_count": null,
      "outputs": []
    },
    {
      "cell_type": "code",
      "source": [
        "#dict\n",
        "\n",
        "h = {\"name\" : \"ayyakannu\", \"age\" : 6}\n",
        "\n",
        "print(type(h))"
      ],
      "metadata": {
        "id": "x8bqsG-vIOmF"
      },
      "execution_count": null,
      "outputs": []
    },
    {
      "cell_type": "code",
      "source": [
        "#bool\n",
        "\n",
        "j = True\n",
        "\n",
        "print(type(j))"
      ],
      "metadata": {
        "id": "3ePWrPBnITQ3"
      },
      "execution_count": null,
      "outputs": []
    },
    {
      "cell_type": "code",
      "source": [
        "#frozenset\n",
        "\n",
        "k = frozenset({\"apple\", \"banana\", \"cherry\"})\n",
        "\n",
        "print(type(k))"
      ],
      "metadata": {
        "id": "hyOxBlgDLs5k"
      },
      "execution_count": null,
      "outputs": []
    },
    {
      "cell_type": "code",
      "source": [
        "#bytes\n",
        "\n",
        "l = b\"Hello\"\n",
        "\n",
        "print(type(l))"
      ],
      "metadata": {
        "id": "3JtNP9r6MXyl"
      },
      "execution_count": null,
      "outputs": []
    },
    {
      "cell_type": "code",
      "source": [
        "#bytearray\n",
        "\n",
        "m =  bytearray(50)\n",
        "\n",
        "print(type(m))"
      ],
      "metadata": {
        "id": "VqGKYgBsNLbn"
      },
      "execution_count": null,
      "outputs": []
    },
    {
      "cell_type": "code",
      "source": [
        "#memoryview\n",
        "\n",
        "n = memoryview(bytes(5))\n",
        "\n",
        "print(type(n))"
      ],
      "metadata": {
        "id": "cnBhnmBoN2ug"
      },
      "execution_count": null,
      "outputs": []
    },
    {
      "cell_type": "code",
      "source": [
        "#nonetype\n",
        "\n",
        "o = None\n",
        "\n",
        "print(type(o))"
      ],
      "metadata": {
        "id": "nr12LZXjO_Pd"
      },
      "execution_count": null,
      "outputs": []
    },
    {
      "cell_type": "code",
      "source": [],
      "metadata": {
        "id": "bo3w4EgxO-rJ"
      },
      "execution_count": null,
      "outputs": []
    },
    {
      "cell_type": "markdown",
      "source": [
        "text Types:     srt\n",
        "\n",
        "Numeric Types:\tint, float, complex\n",
        "\n",
        "Sequence Types:\tlist, tuple, range\n",
        "\n",
        "Mapping Type:\t  dict\n",
        "\n",
        "Set Types:\t    set, frozenset\n",
        "\n",
        "Boolean Type:\t  bool\n",
        "\n",
        "Binary Types:  \tbytes, bytearray, memoryview\n",
        "\n",
        "None Type:\t    NoneType"
      ],
      "metadata": {
        "id": "o0Sam6J57w-7"
      }
    }
  ]
}
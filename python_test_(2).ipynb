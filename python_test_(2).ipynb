{
  "nbformat": 4,
  "nbformat_minor": 0,
  "metadata": {
    "colab": {
      "provenance": [],
      "authorship_tag": "ABX9TyNXpV7FA/7Pjqr13jzLeOpl",
      "include_colab_link": true
    },
    "kernelspec": {
      "name": "python3",
      "display_name": "Python 3"
    },
    "language_info": {
      "name": "python"
    }
  },
  "cells": [
    {
      "cell_type": "markdown",
      "metadata": {
        "id": "view-in-github",
        "colab_type": "text"
      },
      "source": [
        "<a href=\"https://colab.research.google.com/github/rajesht1989/YSTBatch6/blob/karthikeyan/python_test_(2).ipynb\" target=\"_parent\"><img src=\"https://colab.research.google.com/assets/colab-badge.svg\" alt=\"Open In Colab\"/></a>"
      ]
    },
    {
      "cell_type": "code",
      "execution_count": null,
      "metadata": {
        "colab": {
          "base_uri": "https://localhost:8080/"
        },
        "id": "Foic1i68zbGr",
        "outputId": "3a25b7b7-9d36-4be9-a9bb-cc4cd309fa84"
      },
      "outputs": [
        {
          "output_type": "stream",
          "name": "stdout",
          "text": [
            "Enter a non-negative integer: 5\n",
            "The factorial of 5 is 120\n"
          ]
        }
      ],
      "source": [
        "#Write a Python program that calculates the factorial of a given number. The factorial of a non-negative integer\n",
        "#n is the product of all positive integers less than or equal to\n",
        "#n. For example, the factorial of 5 (5!) is 5×4×3×2×1\n",
        "\n",
        "#Here's a prompt to guide you:\n",
        "\n",
        "#Take input from the user for a non-negative integer n.\n",
        "#Use a loop (either for or while) to calculate the factorial of n.\n",
        "#Print the result.\n",
        "\n",
        "n = int(input(\"Enter a non-negative integer: \"))\n",
        "factorial = 1\n",
        "if n < 0:\n",
        "    print(\"Sorry, factorial does not exist for negative numbers\")\n",
        "elif n == 0:\n",
        "    print(\"The factorial of 0 is 1\")\n",
        "else:\n",
        "    for i in range(1, n + 1):\n",
        "        factorial = factorial * i\n",
        "    print(\"The factorial of\", n, \"is\", factorial)\n"
      ]
    },
    {
      "cell_type": "code",
      "source": [
        "#Write a Python program that generates a random number between 1 and 10 (inclusive) and asks the user to guess the number. The program should continue prompting the user for guesses until they correctly guess the number. Provide feedback to the user if their guess is too high or too low.\n",
        "\n",
        "#Here are some additional details:\n",
        "\n",
        "#Use the random module to generate the random number.\n",
        "#Take input from the user for their guess.\n",
        "#Use a loop (either for or while) to repeatedly ask for guesses until the correct number is guessed.\n",
        "#Print a message congratulating the user once they guess the correct number.\n",
        "\n",
        "number = int(input(\"Guess a number between 1 and 10: \"))\n",
        "num = [1,2,3,4,5,6,7,8,9,10]\n",
        "if number in num:\n",
        "  while number != number:\n",
        "     if number < number:\n",
        "         print(\"Too low, try again!\")\n",
        "     else:\n",
        "        print(\"Too high, try again!\")\n",
        "     number = int(input(\"Guess a number between 1 and 10: \"))\n",
        "\n",
        "print(\"Congratulations! You guessed the number correctly!\")\n"
      ],
      "metadata": {
        "colab": {
          "base_uri": "https://localhost:8080/"
        },
        "id": "ygE9nRAr2R6D",
        "outputId": "e169dcce-d218-4b8e-a4f0-10aec07410c3"
      },
      "execution_count": null,
      "outputs": [
        {
          "output_type": "stream",
          "name": "stdout",
          "text": [
            "Guess a number between 1 and 10: 6\n",
            "Congratulations! You guessed the number correctly!\n"
          ]
        }
      ]
    },
    {
      "cell_type": "code",
      "source": [
        "#Write a Python program that calculates the sum of the digits of a given positive integer. For example, the sum of the digits of 123 would be 1 + 2 + 3 = 6.\n",
        "\n",
        "#Here are the instructions:\n",
        "\n",
        "#Take input from the user for a positive integer.\n",
        "#Use a loop (either for or while) to extract each digit of the number and add them together.\n",
        "#Print the sum of the digits.\n",
        "\n",
        "n = int(input(\"Enter a positive integer: \"))\n",
        "sum = 0\n",
        "while n > 0:\n",
        "    sum += n % 10\n",
        "    n //= 10\n",
        "print(\"The sum of the digits is\", sum)\n"
      ],
      "metadata": {
        "colab": {
          "base_uri": "https://localhost:8080/"
        },
        "id": "0WWAGhlL5l_d",
        "outputId": "cfba9e1e-03e8-4d25-9f2b-ea00aec123dd"
      },
      "execution_count": null,
      "outputs": [
        {
          "output_type": "stream",
          "name": "stdout",
          "text": [
            "Enter a positive integer: 5\n",
            "The sum of the digits is 5\n"
          ]
        }
      ]
    },
    {
      "cell_type": "code",
      "source": [
        "#Write a Python program that generates the multiplication table for a given integer. The program should display the multiplication table up to 10 for the given number.\n",
        "\n",
        "#Here are the steps:\n",
        "\n",
        "#Take input from the user for a positive integer.\n",
        "#Use a loop (either for or while) to calculate and print the multiplication table for the given number up to 10.\n",
        "\n",
        "num = int(input(\"Enter a positive integer: \"))\n",
        "for i in range(1, 11):\n",
        "    print(i, \"x\", num, \"=\", num * i)\n"
      ],
      "metadata": {
        "colab": {
          "base_uri": "https://localhost:8080/"
        },
        "id": "0zyeFgQY6QwJ",
        "outputId": "3de15f46-ad21-4708-825a-7c39cefa3242"
      },
      "execution_count": null,
      "outputs": [
        {
          "output_type": "stream",
          "name": "stdout",
          "text": [
            "Enter a positive integer: 2\n",
            "1 x 2 = 2\n",
            "2 x 2 = 4\n",
            "3 x 2 = 6\n",
            "4 x 2 = 8\n",
            "5 x 2 = 10\n",
            "6 x 2 = 12\n",
            "7 x 2 = 14\n",
            "8 x 2 = 16\n",
            "9 x 2 = 18\n",
            "10 x 2 = 20\n"
          ]
        }
      ]
    },
    {
      "cell_type": "code",
      "source": [
        " #Write a Python program that generates the Fibonacci sequence up to a specified number of terms. The Fibonacci sequence is a series of numbers where each number is the sum of the two preceding ones, usually starting with 0 and 1.\n",
        "\n",
        "#Here are the guidelines:\n",
        "\n",
        "#Take input from the user for the number of terms in the Fibonacci sequence.\n",
        "#Use a loop (either for or while) to generate and print the Fibonacci sequence up to the specified number of terms.\n",
        "\n",
        "n = int(input(\"Enter the number of terms in the Fibonacci sequence: \"))\n",
        "fibonacci = [0, 1]\n",
        "for i in range(2, n):\n",
        "    next_term = fibonacci[i - 1] + fibonacci[i - 2]\n",
        "    fibonacci.append(next_term)\n",
        "print(\"The Fibonacci sequence up to the\", n, \"th term is:\")\n",
        "for i in range(n):\n",
        "    print(fibonacci[i], end=\" \")\n"
      ],
      "metadata": {
        "colab": {
          "base_uri": "https://localhost:8080/"
        },
        "id": "4HePmaLP6WaP",
        "outputId": "9643231b-68bf-4209-913c-ee4069acc4c6"
      },
      "execution_count": null,
      "outputs": [
        {
          "output_type": "stream",
          "name": "stdout",
          "text": [
            "Enter the number of terms in the Fibonacci sequence: 5\n",
            "The Fibonacci sequence up to the 5 th term is:\n",
            "0 1 1 2 3 "
          ]
        }
      ]
    },
    {
      "cell_type": "code",
      "source": [
        "#Write a Python program that checks whether a given string is a palindrome. A palindrome is a word, phrase, or sequence of characters that reads the same forward and backward (ignoring spaces, punctuation, and capitalization).\n",
        "\n",
        "#Here are the steps:\n",
        "\n",
        "#Take input from the user for a string.\n",
        "#Use a loop (either for or while) to check if the entered string is a palindrome.\n",
        "#Print a message indicating whether the string is a palindrome or not.\n",
        "\n",
        "string = input(\"Enter a string: \")\n",
        "string = string.lower()\n",
        "string = ''.join(e for e in string if e.isalnum())\n",
        "reverse_string = string[::-1]\n",
        "if string == reverse_string:\n",
        "    print(\"The string is a palindrome.\")\n",
        "else:\n",
        "    print(\"The string is not a palindrome.\")\n",
        "\n",
        "print(reverse_string)"
      ],
      "metadata": {
        "id": "dWBDA51j74ge",
        "colab": {
          "base_uri": "https://localhost:8080/"
        },
        "outputId": "382d96d6-b91d-4f19-ff95-b914960893d3"
      },
      "execution_count": null,
      "outputs": [
        {
          "output_type": "stream",
          "name": "stdout",
          "text": [
            "Enter a string: kathi\n",
            "The string is not a palindrome.\n",
            "ihtak\n"
          ]
        }
      ]
    },
    {
      "cell_type": "code",
      "source": [
        "#Write a Python program that checks whether a given positive integer is a prime number or not. A prime number is a natural number greater than 1 that is not a product of two smaller natural numbers.\n",
        "\n",
        "#Here are the instructions:\n",
        "\n",
        "#Take input from the user for a positive integer.\n",
        "#Use a loop (either for or while) to check if the entered number is a prime number.\n",
        "#Print a message indicating whether the number is a prime number or not.\n",
        "#For example, if the user enters 7, the program should print \"Prime.\" If the user enters 10, the program should print \"Not a prime number.\"\n",
        "\n",
        "num = int(input(\"Enter a positive integer: \"))\n",
        "if num > 1:\n",
        "    for i in range(2, num):\n",
        "        if (num % i == 0):\n",
        "            print(num, \"is not a prime number.\")\n",
        "            break\n",
        "    else:\n",
        "        print(num, \"is a prime number.\")\n",
        "else:\n",
        "    print(num, \"is not a prime number.\")\n"
      ],
      "metadata": {
        "colab": {
          "base_uri": "https://localhost:8080/"
        },
        "id": "FUOi-kea-5Ub",
        "outputId": "790bc9bd-189b-4545-e05d-2cb73e90b233"
      },
      "execution_count": null,
      "outputs": [
        {
          "output_type": "stream",
          "name": "stdout",
          "text": [
            "Enter a positive integer: 23\n",
            "23 is a prime number.\n"
          ]
        }
      ]
    },
    {
      "cell_type": "code",
      "source": [
        "#Write a Python program that counts the number of vowels (a, e, i, o, u) in a given string. The program should be case-insensitive, meaning it should count both uppercase and lowercase vowels.\n",
        "\n",
        "#Here are the steps:\n",
        "\n",
        "#Take input from the user for a string.\n",
        "#Use a loop (either for or while) to iterate through each character in the string and count the number of vowels.\n",
        "#Print the total count of vowels in the given string.\n",
        "#For example, if the user enters \"Hello World,\" the program should print \"3 vowels.\"\n",
        "\n",
        "string = input(\"Enter a string: \")\n",
        "vowels = \"aeiouAEIOU\"\n",
        "count = 0\n",
        "for char in string:\n",
        "    if char in vowels:\n",
        "        count += 1\n",
        "print(\"The total count of vowels in the given string is\", count)\n"
      ],
      "metadata": {
        "colab": {
          "base_uri": "https://localhost:8080/"
        },
        "id": "KBDx0gGWC4TQ",
        "outputId": "1c82497a-8e74-46cd-d101-0b875cb2fca6"
      },
      "execution_count": 5,
      "outputs": [
        {
          "output_type": "stream",
          "name": "stdout",
          "text": [
            "Enter a string: karthi\n",
            "The total count of vowels in the given string is 2\n"
          ]
        }
      ]
    },
    {
      "cell_type": "code",
      "source": [],
      "metadata": {
        "id": "csckI31rbrJB"
      },
      "execution_count": null,
      "outputs": []
    }
  ]
}